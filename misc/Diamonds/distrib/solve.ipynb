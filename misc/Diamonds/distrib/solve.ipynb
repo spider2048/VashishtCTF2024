{
 "cells": [
  {
   "cell_type": "code",
   "execution_count": 1,
   "metadata": {},
   "outputs": [
    {
     "ename": "ModuleNotFoundError",
     "evalue": "No module named 'mceditlib'",
     "output_type": "error",
     "traceback": [
      "\u001b[1;31m---------------------------------------------------------------------------\u001b[0m",
      "\u001b[1;31mModuleNotFoundError\u001b[0m                       Traceback (most recent call last)",
      "Cell \u001b[1;32mIn[1], line 1\u001b[0m\n\u001b[1;32m----> 1\u001b[0m \u001b[38;5;28;01mfrom\u001b[39;00m \u001b[38;5;21;01mmceditlib\u001b[39;00m \u001b[38;5;28;01mimport\u001b[39;00m worldeditor\n\u001b[0;32m      2\u001b[0m \u001b[38;5;28;01mfrom\u001b[39;00m \u001b[38;5;21;01mmceditlib\u001b[39;00m\u001b[38;5;21;01m.\u001b[39;00m\u001b[38;5;21;01mexceptions\u001b[39;00m \u001b[38;5;28;01mimport\u001b[39;00m ChunkNotPresent\n",
      "\u001b[1;31mModuleNotFoundError\u001b[0m: No module named 'mceditlib'"
     ]
    }
   ],
   "source": [
    "from mceditlib import worldeditor\n",
    "from mceditlib.exceptions import ChunkNotPresent"
   ]
  },
  {
   "cell_type": "code",
   "execution_count": null,
   "metadata": {},
   "outputs": [],
   "source": [
    "def count_blocks_in_region(region_file):\n",
    "    # Load the region file\n",
    "    editor = worldeditor.WorldEditor(region_file)\n",
    "    \n",
    "    # Iterate through all chunks in the region\n",
    "    block_count = {}\n",
    "    for cx, cz in editor.allChunks:\n",
    "        try:\n",
    "            chunk = editor.getChunk(cx, cz)\n",
    "            for block in chunk.Blocks:\n",
    "                block_count[block] = block_count.get(block, 0) + 1\n",
    "        except ChunkNotPresent:\n",
    "            # Skip if the chunk is not present\n",
    "            pass\n",
    "    \n",
    "    # Display block counts\n",
    "    for block, count in block_count.items():\n",
    "        print(\"Block ID {}: {}\".format(block, count))"
   ]
  },
  {
   "cell_type": "code",
   "execution_count": 2,
   "metadata": {},
   "outputs": [],
   "source": [
    "\n",
    "region_file_path = \"r.0.0.mca\"\n",
    "count_blocks_in_region(region_file_path)\n"
   ]
  }
 ],
 "metadata": {
  "kernelspec": {
   "display_name": "Python 3",
   "language": "python",
   "name": "python3"
  },
  "language_info": {
   "codemirror_mode": {
    "name": "ipython",
    "version": 3
   },
   "file_extension": ".py",
   "mimetype": "text/x-python",
   "name": "python",
   "nbconvert_exporter": "python",
   "pygments_lexer": "ipython3",
   "version": "3.11.6"
  }
 },
 "nbformat": 4,
 "nbformat_minor": 2
}
