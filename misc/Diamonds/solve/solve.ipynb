{
 "cells": [
  {
   "cell_type": "code",
   "execution_count": null,
   "metadata": {},
   "outputs": [
    {
     "data": {
      "text/plain": [
       "<module 'anvil' from 'd:\\\\Tools\\\\Scoop\\\\apps\\\\python311\\\\current\\\\Lib\\\\site-packages\\\\anvil\\\\__init__.py'>"
      ]
     },
     "execution_count": 15,
     "metadata": {},
     "output_type": "execute_result"
    }
   ],
   "source": [
    "from mceditlib import worldeditor\n",
    "from mceditlib.exceptions import ChunkNotPresent"
   ]
  },
  {
   "cell_type": "code",
   "execution_count": null,
   "metadata": {},
   "outputs": [],
   "source": [
    "def count_blocks_in_region(region_file):\n",
    "    # Load the region file\n",
    "    editor = worldeditor.WorldEditor(region_file)\n",
    "    \n",
    "    # Iterate through all chunks in the region\n",
    "    block_count = {}\n",
    "    for cx, cz in editor.allChunks:\n",
    "        try:\n",
    "            chunk = editor.getChunk(cx, cz)\n",
    "            for block in chunk.Blocks:\n",
    "                block_count[block] = block_count.get(block, 0) + 1\n",
    "        except ChunkNotPresent:\n",
    "            # Skip if the chunk is not present\n",
    "            pass\n",
    "    \n",
    "    # Display block counts\n",
    "    for block, count in block_count.items():\n",
    "        print(\"Block ID {}: {}\".format(block, count))"
   ]
  },
  {
   "cell_type": "code",
   "execution_count": 2,
   "metadata": {},
   "outputs": [],
   "source": [
    "\n",
    "region_file_path = \"r.0.0.mca\"\n",
    "count_blocks_in_region(region_file_path)\n"
   ]
  }
 ],
 "metadata": {
  "kernelspec": {
   "display_name": "Python 3",
   "language": "python",
   "name": "python3"
  },
  "language_info": {
   "codemirror_mode": {
    "name": "ipython",
    "version": 3
   },
   "file_extension": ".py",
   "mimetype": "text/x-python",
   "name": "python",
   "nbconvert_exporter": "python",
   "pygments_lexer": "ipython3",
   "version": "3.11.6"
  }
 },
 "nbformat": 4,
 "nbformat_minor": 2
}
